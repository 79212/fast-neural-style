{
 "cells": [
  {
   "cell_type": "code",
   "execution_count": null,
   "metadata": {},
   "outputs": [],
   "source": [
    "%matplotlib inline\n",
    "\n",
    "from PIL import Image\n",
    "import skvideo.io\n",
    "import numpy as np\n",
    "import torch\n",
    "from torch.autograd import Variable\n",
    "from torchvision import transforms\n",
    "from tqdm import tqdm_notebook\n",
    "\n",
    "from transformer_net import TransformerNet\n",
    "from utils import recover_image, tensor_normalizer"
   ]
  },
  {
   "cell_type": "code",
   "execution_count": null,
   "metadata": {
    "collapsed": true
   },
   "outputs": [],
   "source": [
    "MODEL = \"models/model_mosaic.pth\"\n",
    "transformer = TransformerNet()\n",
    "transformer.load_state_dict(torch.load(MODEL))"
   ]
  },
  {
   "cell_type": "code",
   "execution_count": null,
   "metadata": {
    "collapsed": true
   },
   "outputs": [],
   "source": [
    "preprocess = transforms.Compose([\n",
    "    transforms.ToTensor(),\n",
    "    tensor_normalizer()\n",
    "])"
   ]
  },
  {
   "cell_type": "markdown",
   "metadata": {},
   "source": [
    "## Low Resolution GIF Animation"
   ]
  },
  {
   "cell_type": "markdown",
   "metadata": {},
   "source": [
    "Convert gif file to video file: \n",
    "```\n",
    "ffmpeg -f gif -i cat.gif cat.mp4\n",
    "```"
   ]
  },
  {
   "cell_type": "code",
   "execution_count": null,
   "metadata": {},
   "outputs": [],
   "source": [
    "skvideo.io.ffprobe(\"videos/cat.mp4\")"
   ]
  },
  {
   "cell_type": "code",
   "execution_count": null,
   "metadata": {},
   "outputs": [],
   "source": [
    "frames = []\n",
    "frames_orig = []\n",
    "videogen = skvideo.io.vreader(\"videos/cat.mp4\")\n",
    "for frame in videogen:\n",
    "    frames_orig.append(Image.fromarray(frame))\n",
    "    frames.append(recover_image(transformer(\n",
    "        Variable(preprocess(frame).unsqueeze(0), volatile=True)).data.numpy())[0])"
   ]
  },
  {
   "cell_type": "code",
   "execution_count": null,
   "metadata": {
    "scrolled": true
   },
   "outputs": [],
   "source": [
    "Image.fromarray(frames[3])"
   ]
  },
  {
   "cell_type": "code",
   "execution_count": null,
   "metadata": {},
   "outputs": [],
   "source": [
    "writer = skvideo.io.FFmpegWriter(\"cat.mp4\")# tuple([len(frames)] + list(frames[0].shape)))\n",
    "for frame in frames:\n",
    "    writer.writeFrame(frame)\n",
    "writer.close()"
   ]
  },
  {
   "cell_type": "markdown",
   "metadata": {},
   "source": [
    "## Higher Resolution Videos"
   ]
  },
  {
   "cell_type": "code",
   "execution_count": null,
   "metadata": {},
   "outputs": [],
   "source": [
    "skvideo.io.ffprobe(\"videos/nz.mp4\")"
   ]
  },
  {
   "cell_type": "markdown",
   "metadata": {},
   "source": [
    "Switch to GPU:"
   ]
  },
  {
   "cell_type": "code",
   "execution_count": null,
   "metadata": {},
   "outputs": [],
   "source": [
    "transformer.cuda()\n",
    "BATCH_SIZE = 2"
   ]
  },
  {
   "cell_type": "code",
   "execution_count": null,
   "metadata": {},
   "outputs": [],
   "source": [
    "batch = []\n",
    "videogen = skvideo.io.FFmpegReader(\"videos/nz.mp4\", {\"-ss\": \"00:00:25\", \"-t\": \"00:00:15\"})\n",
    "writer = skvideo.io.FFmpegWriter(\"nz.mp4\")\n",
    "try:\n",
    "    for frame in tqdm_notebook(videogen.nextFrame()):\n",
    "        batch.append(preprocess(frame).unsqueeze(0))\n",
    "        if len(batch) == BATCH_SIZE:\n",
    "            for frame_out in recover_image(transformer(\n",
    "                Variable(torch.cat(batch, 0), volatile=True).cuda()).data.cpu().numpy()):\n",
    "                writer.writeFrame(frame_out)\n",
    "            batch = []\n",
    "except RuntimeError as e:\n",
    "    pass\n",
    "writer.close()"
   ]
  },
  {
   "cell_type": "code",
   "execution_count": null,
   "metadata": {},
   "outputs": [],
   "source": [
    "batch = []\n",
    "videogen = skvideo.io.FFmpegReader(\"videos/keelung_360.mp4\", {\"-ss\": \"00:00:25\", \"-t\": \"00:00:30\"})\n",
    "writer = skvideo.io.FFmpegWriter(\"keelung.mp4\")\n",
    "try:\n",
    "    for frame in tqdm_notebook(videogen.nextFrame()):\n",
    "        batch.append(preprocess(frame).unsqueeze(0))\n",
    "        if len(batch) == BATCH_SIZE:\n",
    "            for frame_out in recover_image(transformer(\n",
    "                Variable(torch.cat(batch, 0), volatile=True).cuda()).data.cpu().numpy()):\n",
    "                writer.writeFrame(frame_out)\n",
    "            batch = []\n",
    "except RuntimeError as e:\n",
    "    pass\n",
    "writer.close()"
   ]
  },
  {
   "cell_type": "code",
   "execution_count": null,
   "metadata": {
    "collapsed": true
   },
   "outputs": [],
   "source": []
  }
 ],
 "metadata": {
  "kernelspec": {
   "display_name": "Python 3",
   "language": "python",
   "name": "python3"
  },
  "language_info": {
   "codemirror_mode": {
    "name": "ipython",
    "version": 3
   },
   "file_extension": ".py",
   "mimetype": "text/x-python",
   "name": "python",
   "nbconvert_exporter": "python",
   "pygments_lexer": "ipython3",
   "version": "3.6.1"
  }
 },
 "nbformat": 4,
 "nbformat_minor": 2
}
